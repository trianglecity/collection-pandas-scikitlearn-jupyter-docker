{
 "cells": [
  {
   "cell_type": "code",
   "execution_count": 20,
   "metadata": {},
   "outputs": [],
   "source": [
    "import pandas as pd\n",
    "import matplotlib.pyplot as plt\n",
    "from sklearn.cluster import KMeans\n",
    "from sklearn.decomposition import PCA\n",
    "from sklearn.cross_validation import train_test_split\n",
    "from sklearn.linear_model import LinearRegression\n",
    "from sklearn.metrics import mean_squared_error\n",
    "from sklearn.ensemble import RandomForestRegressor"
   ]
  },
  {
   "cell_type": "code",
   "execution_count": 2,
   "metadata": {},
   "outputs": [
    {
     "data": {
      "text/html": [
       "<div>\n",
       "<table border=\"1\" class=\"dataframe\">\n",
       "  <thead>\n",
       "    <tr style=\"text-align: right;\">\n",
       "      <th></th>\n",
       "      <th>type</th>\n",
       "      <th>name</th>\n",
       "      <th>yearpublished</th>\n",
       "      <th>minplayers</th>\n",
       "      <th>maxplayers</th>\n",
       "      <th>playingtime</th>\n",
       "      <th>minplaytime</th>\n",
       "      <th>maxplaytime</th>\n",
       "      <th>minage</th>\n",
       "      <th>users_rated</th>\n",
       "      <th>average_rating</th>\n",
       "      <th>bayes_average_rating</th>\n",
       "      <th>total_owners</th>\n",
       "      <th>total_traders</th>\n",
       "      <th>total_wanters</th>\n",
       "      <th>total_wishers</th>\n",
       "      <th>total_comments</th>\n",
       "      <th>total_weights</th>\n",
       "      <th>average_weight</th>\n",
       "    </tr>\n",
       "    <tr>\n",
       "      <th>id</th>\n",
       "      <th></th>\n",
       "      <th></th>\n",
       "      <th></th>\n",
       "      <th></th>\n",
       "      <th></th>\n",
       "      <th></th>\n",
       "      <th></th>\n",
       "      <th></th>\n",
       "      <th></th>\n",
       "      <th></th>\n",
       "      <th></th>\n",
       "      <th></th>\n",
       "      <th></th>\n",
       "      <th></th>\n",
       "      <th></th>\n",
       "      <th></th>\n",
       "      <th></th>\n",
       "      <th></th>\n",
       "      <th></th>\n",
       "    </tr>\n",
       "  </thead>\n",
       "  <tbody>\n",
       "    <tr>\n",
       "      <th>12333</th>\n",
       "      <td>boardgame</td>\n",
       "      <td>Twilight Struggle</td>\n",
       "      <td>2005</td>\n",
       "      <td>2</td>\n",
       "      <td>2</td>\n",
       "      <td>180</td>\n",
       "      <td>180</td>\n",
       "      <td>180</td>\n",
       "      <td>13</td>\n",
       "      <td>20113</td>\n",
       "      <td>8.33774</td>\n",
       "      <td>8.22186</td>\n",
       "      <td>26647</td>\n",
       "      <td>372</td>\n",
       "      <td>1219</td>\n",
       "      <td>5865</td>\n",
       "      <td>5347</td>\n",
       "      <td>2562</td>\n",
       "      <td>3.4785</td>\n",
       "    </tr>\n",
       "    <tr>\n",
       "      <th>120677</th>\n",
       "      <td>boardgame</td>\n",
       "      <td>Terra Mystica</td>\n",
       "      <td>2012</td>\n",
       "      <td>2</td>\n",
       "      <td>5</td>\n",
       "      <td>150</td>\n",
       "      <td>60</td>\n",
       "      <td>150</td>\n",
       "      <td>12</td>\n",
       "      <td>14383</td>\n",
       "      <td>8.28798</td>\n",
       "      <td>8.14232</td>\n",
       "      <td>16519</td>\n",
       "      <td>132</td>\n",
       "      <td>1586</td>\n",
       "      <td>6277</td>\n",
       "      <td>2526</td>\n",
       "      <td>1423</td>\n",
       "      <td>3.8939</td>\n",
       "    </tr>\n",
       "    <tr>\n",
       "      <th>102794</th>\n",
       "      <td>boardgame</td>\n",
       "      <td>Caverna: The Cave Farmers</td>\n",
       "      <td>2013</td>\n",
       "      <td>1</td>\n",
       "      <td>7</td>\n",
       "      <td>210</td>\n",
       "      <td>30</td>\n",
       "      <td>210</td>\n",
       "      <td>12</td>\n",
       "      <td>9262</td>\n",
       "      <td>8.28994</td>\n",
       "      <td>8.06886</td>\n",
       "      <td>12230</td>\n",
       "      <td>99</td>\n",
       "      <td>1476</td>\n",
       "      <td>5600</td>\n",
       "      <td>1700</td>\n",
       "      <td>777</td>\n",
       "      <td>3.7761</td>\n",
       "    </tr>\n",
       "    <tr>\n",
       "      <th>25613</th>\n",
       "      <td>boardgame</td>\n",
       "      <td>Through the Ages: A Story of Civilization</td>\n",
       "      <td>2006</td>\n",
       "      <td>2</td>\n",
       "      <td>4</td>\n",
       "      <td>240</td>\n",
       "      <td>240</td>\n",
       "      <td>240</td>\n",
       "      <td>12</td>\n",
       "      <td>13294</td>\n",
       "      <td>8.20407</td>\n",
       "      <td>8.05804</td>\n",
       "      <td>14343</td>\n",
       "      <td>362</td>\n",
       "      <td>1084</td>\n",
       "      <td>5075</td>\n",
       "      <td>3378</td>\n",
       "      <td>1642</td>\n",
       "      <td>4.1590</td>\n",
       "    </tr>\n",
       "    <tr>\n",
       "      <th>3076</th>\n",
       "      <td>boardgame</td>\n",
       "      <td>Puerto Rico</td>\n",
       "      <td>2002</td>\n",
       "      <td>2</td>\n",
       "      <td>5</td>\n",
       "      <td>150</td>\n",
       "      <td>90</td>\n",
       "      <td>150</td>\n",
       "      <td>12</td>\n",
       "      <td>39883</td>\n",
       "      <td>8.14261</td>\n",
       "      <td>8.04524</td>\n",
       "      <td>44362</td>\n",
       "      <td>795</td>\n",
       "      <td>861</td>\n",
       "      <td>5414</td>\n",
       "      <td>9173</td>\n",
       "      <td>5213</td>\n",
       "      <td>3.2943</td>\n",
       "    </tr>\n",
       "  </tbody>\n",
       "</table>\n",
       "</div>"
      ],
      "text/plain": [
       "             type                                       name  yearpublished  \\\n",
       "id                                                                            \n",
       "12333   boardgame                          Twilight Struggle           2005   \n",
       "120677  boardgame                              Terra Mystica           2012   \n",
       "102794  boardgame                  Caverna: The Cave Farmers           2013   \n",
       "25613   boardgame  Through the Ages: A Story of Civilization           2006   \n",
       "3076    boardgame                                Puerto Rico           2002   \n",
       "\n",
       "        minplayers  maxplayers  playingtime  minplaytime  maxplaytime  minage  \\\n",
       "id                                                                              \n",
       "12333            2           2          180          180          180      13   \n",
       "120677           2           5          150           60          150      12   \n",
       "102794           1           7          210           30          210      12   \n",
       "25613            2           4          240          240          240      12   \n",
       "3076             2           5          150           90          150      12   \n",
       "\n",
       "        users_rated  average_rating  bayes_average_rating  total_owners  \\\n",
       "id                                                                        \n",
       "12333         20113         8.33774               8.22186         26647   \n",
       "120677        14383         8.28798               8.14232         16519   \n",
       "102794         9262         8.28994               8.06886         12230   \n",
       "25613         13294         8.20407               8.05804         14343   \n",
       "3076          39883         8.14261               8.04524         44362   \n",
       "\n",
       "        total_traders  total_wanters  total_wishers  total_comments  \\\n",
       "id                                                                    \n",
       "12333             372           1219           5865            5347   \n",
       "120677            132           1586           6277            2526   \n",
       "102794             99           1476           5600            1700   \n",
       "25613             362           1084           5075            3378   \n",
       "3076              795            861           5414            9173   \n",
       "\n",
       "        total_weights  average_weight  \n",
       "id                                     \n",
       "12333            2562          3.4785  \n",
       "120677           1423          3.8939  \n",
       "102794            777          3.7761  \n",
       "25613            1642          4.1590  \n",
       "3076             5213          3.2943  "
      ]
     },
     "execution_count": 2,
     "metadata": {},
     "output_type": "execute_result"
    }
   ],
   "source": [
    "df_games = pd.read_csv(\"boardgame.csv\", header=0, index_col=0, delimiter=r\",\")\n",
    "df_games.head()"
   ]
  },
  {
   "cell_type": "code",
   "execution_count": 3,
   "metadata": {},
   "outputs": [
    {
     "name": "stdout",
     "output_type": "stream",
     "text": [
      "['type', 'name', 'yearpublished', 'minplayers', 'maxplayers', 'playingtime', 'minplaytime', 'maxplaytime', 'minage', 'users_rated', 'average_rating', 'bayes_average_rating', 'total_owners', 'total_traders', 'total_wanters', 'total_wishers', 'total_comments', 'total_weights', 'average_weight']\n"
     ]
    }
   ],
   "source": [
    "features_names = list(df_games.columns[:])\n",
    "print(features_names)"
   ]
  },
  {
   "cell_type": "code",
   "execution_count": 4,
   "metadata": {},
   "outputs": [
    {
     "name": "stdout",
     "output_type": "stream",
     "text": [
      "Index([u'type', u'name', u'yearpublished', u'minplayers', u'maxplayers',\n",
      "       u'playingtime', u'minplaytime', u'maxplaytime', u'minage',\n",
      "       u'users_rated', u'average_rating', u'bayes_average_rating',\n",
      "       u'total_owners', u'total_traders', u'total_wanters', u'total_wishers',\n",
      "       u'total_comments', u'total_weights', u'average_weight'],\n",
      "      dtype='object')\n"
     ]
    }
   ],
   "source": [
    "print(df_games.columns)"
   ]
  },
  {
   "cell_type": "code",
   "execution_count": 5,
   "metadata": {},
   "outputs": [
    {
     "name": "stdout",
     "output_type": "stream",
     "text": [
      "(81312, 19)\n"
     ]
    }
   ],
   "source": [
    "print(df_games.shape)"
   ]
  },
  {
   "cell_type": "code",
   "execution_count": 6,
   "metadata": {},
   "outputs": [
    {
     "data": {
      "image/png": "[encoded data removed]",
      "text/plain": [
       "<matplotlib.figure.Figure at 0x7fc37b9ded50>"
      ]
     },
     "metadata": {},
     "output_type": "display_data"
    }
   ],
   "source": [
    "plt.hist(df_games[\"average_rating\"])\n",
    "plt.show()"
   ]
  },
  {
   "cell_type": "code",
   "execution_count": 7,
   "metadata": {},
   "outputs": [
    {
     "name": "stdout",
     "output_type": "stream",
     "text": [
      "type                     boardgame\n",
      "name                    Looney Leo\n",
      "yearpublished                    0\n",
      "minplayers                       0\n",
      "maxplayers                       0\n",
      "playingtime                      0\n",
      "minplaytime                      0\n",
      "maxplaytime                      0\n",
      "minage                           0\n",
      "users_rated                      0\n",
      "average_rating                   0\n",
      "bayes_average_rating             0\n",
      "total_owners                     0\n",
      "total_traders                    0\n",
      "total_wanters                    0\n",
      "total_wishers                    1\n",
      "total_comments                   0\n",
      "total_weights                    0\n",
      "average_weight                   0\n",
      "Name: 318, dtype: object\n"
     ]
    }
   ],
   "source": [
    "df_subset_zero = df_games[df_games[\"average_rating\"] == 0]\n",
    "print(df_subset_zero.iloc[0])"
   ]
  },
  {
   "cell_type": "code",
   "execution_count": 8,
   "metadata": {},
   "outputs": [
    {
     "name": "stdout",
     "output_type": "stream",
     "text": [
      "type                            boardgame\n",
      "name                    Twilight Struggle\n",
      "yearpublished                        2005\n",
      "minplayers                              2\n",
      "maxplayers                              2\n",
      "playingtime                           180\n",
      "minplaytime                           180\n",
      "maxplaytime                           180\n",
      "minage                                 13\n",
      "users_rated                         20113\n",
      "average_rating                    8.33774\n",
      "bayes_average_rating              8.22186\n",
      "total_owners                        26647\n",
      "total_traders                         372\n",
      "total_wanters                        1219\n",
      "total_wishers                        5865\n",
      "total_comments                       5347\n",
      "total_weights                        2562\n",
      "average_weight                     3.4785\n",
      "Name: 12333, dtype: object\n"
     ]
    }
   ],
   "source": [
    "df_subset_nonzero = df_games[df_games[\"average_rating\"] > 0]\n",
    "print(df_subset_nonzero.iloc[0])"
   ]
  },
  {
   "cell_type": "code",
   "execution_count": 9,
   "metadata": {},
   "outputs": [],
   "source": [
    "df_subset_rated = df_games[df_games[\"users_rated\"] > 0]\n",
    "# Remove any rows with missing values.\n",
    "df_subset_rated = df_subset_rated.dropna(axis=0)"
   ]
  },
  {
   "cell_type": "code",
   "execution_count": 10,
   "metadata": {},
   "outputs": [],
   "source": [
    "kmeans_model = KMeans(n_clusters=5, random_state=1)\n",
    "df_numeric_columns = df_subset_rated._get_numeric_data()\n",
    "\n",
    "kmeans_model.fit(df_numeric_columns)\n",
    "labels = kmeans_model.labels_"
   ]
  },
  {
   "cell_type": "code",
   "execution_count": 11,
   "metadata": {},
   "outputs": [
    {
     "data": {
      "image/png": "[encoded data removed]",
      "text/plain": [
       "<matplotlib.figure.Figure at 0x7fc3b0686790>"
      ]
     },
     "metadata": {},
     "output_type": "display_data"
    }
   ],
   "source": [
    "pca_2 = PCA(2)\n",
    "plot_columns = pca_2.fit_transform(df_numeric_columns)\n",
    "plt.scatter(x=plot_columns[:,0], y=plot_columns[:,1], c=labels)\n",
    "plt.show()"
   ]
  },
  {
   "cell_type": "code",
   "execution_count": 12,
   "metadata": {},
   "outputs": [
    {
     "data": {
      "text/plain": [
       "yearpublished           0.108461\n",
       "minplayers             -0.032701\n",
       "maxplayers             -0.008335\n",
       "playingtime             0.048994\n",
       "minplaytime             0.043985\n",
       "maxplaytime             0.048994\n",
       "minage                  0.210049\n",
       "users_rated             0.112564\n",
       "average_rating          1.000000\n",
       "bayes_average_rating    0.231563\n",
       "total_owners            0.137478\n",
       "total_traders           0.119452\n",
       "total_wanters           0.196566\n",
       "total_wishers           0.171375\n",
       "total_comments          0.123714\n",
       "total_weights           0.109691\n",
       "average_weight          0.351081\n",
       "Name: average_rating, dtype: float64"
      ]
     },
     "execution_count": 12,
     "metadata": {},
     "output_type": "execute_result"
    }
   ],
   "source": [
    "df_subset_rated.corr()[\"average_rating\"]"
   ]
  },
  {
   "cell_type": "code",
   "execution_count": 13,
   "metadata": {},
   "outputs": [
    {
     "name": "stdout",
     "output_type": "stream",
     "text": [
      "['type', 'name', 'yearpublished', 'minplayers', 'maxplayers', 'playingtime', 'minplaytime', 'maxplaytime', 'minage', 'users_rated', 'average_rating', 'bayes_average_rating', 'total_owners', 'total_traders', 'total_wanters', 'total_wishers', 'total_comments', 'total_weights', 'average_weight']\n"
     ]
    }
   ],
   "source": [
    "columns_list = df_subset_rated.columns.tolist()\n",
    "print (columns_list)"
   ]
  },
  {
   "cell_type": "code",
   "execution_count": 14,
   "metadata": {},
   "outputs": [],
   "source": [
    "columns = [c for c in columns_list if c not in [\"bayes_average_rating\", \"average_rating\", \"type\", \"name\"]]\n",
    "target = \"average_rating\""
   ]
  },
  {
   "cell_type": "code",
   "execution_count": 15,
   "metadata": {},
   "outputs": [
    {
     "name": "stdout",
     "output_type": "stream",
     "text": [
      "(45515, 19)\n",
      "(10819, 19)\n"
     ]
    }
   ],
   "source": [
    "train = df_subset_rated.sample(frac=0.8, random_state=1)\n",
    "test = df_subset_rated.loc[~df_subset_rated.index.isin(train.index)]\n",
    "print(train.shape)\n",
    "print(test.shape)"
   ]
  },
  {
   "cell_type": "code",
   "execution_count": 16,
   "metadata": {},
   "outputs": [
    {
     "data": {
      "text/plain": [
       "LinearRegression(copy_X=True, fit_intercept=True, n_jobs=1, normalize=False)"
      ]
     },
     "execution_count": 16,
     "metadata": {},
     "output_type": "execute_result"
    }
   ],
   "source": [
    "model = LinearRegression()\n",
    "# Fit the model to the training data.\n",
    "model.fit(train[columns], train[target])"
   ]
  },
  {
   "cell_type": "code",
   "execution_count": 17,
   "metadata": {},
   "outputs": [
    {
     "data": {
      "text/plain": [
       "2.1706481002761406"
      ]
     },
     "execution_count": 17,
     "metadata": {},
     "output_type": "execute_result"
    }
   ],
   "source": [
    "predictions = model.predict(test[columns])\n",
    "mean_squared_error(predictions, test[target])"
   ]
  },
  {
   "cell_type": "code",
   "execution_count": 19,
   "metadata": {},
   "outputs": [
    {
     "data": {
      "text/plain": [
       "1.5171009885017595"
      ]
     },
     "execution_count": 19,
     "metadata": {},
     "output_type": "execute_result"
    }
   ],
   "source": [
    "model = RandomForestRegressor(n_estimators=100, min_samples_leaf=10, random_state=1)\n",
    "# Fit the model to the data.\n",
    "model.fit(train[columns], train[target])\n",
    "# Make predictions.\n",
    "predictions = model.predict(test[columns])\n",
    "# Compute the error.\n",
    "mean_squared_error(predictions, test[target])"
   ]
  }
 ],
 "metadata": {
  "kernelspec": {
   "display_name": "Python 2",
   "language": "python",
   "name": "python2"
  },
  "language_info": {
   "codemirror_mode": {
    "name": "ipython",
    "version": 2
   },
   "file_extension": ".py",
   "mimetype": "text/x-python",
   "name": "python",
   "nbconvert_exporter": "python",
   "pygments_lexer": "ipython2",
   "version": "2.7.12"
  }
 },
 "nbformat": 4,
 "nbformat_minor": 2
}
